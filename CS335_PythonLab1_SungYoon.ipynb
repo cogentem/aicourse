{
  "nbformat": 4,
  "nbformat_minor": 0,
  "metadata": {
    "colab": {
      "provenance": [],
      "authorship_tag": "ABX9TyMD8WGdZwq+qRQI0aVyt2IF",
      "include_colab_link": true
    },
    "kernelspec": {
      "name": "python3",
      "display_name": "Python 3"
    },
    "language_info": {
      "name": "python"
    }
  },
  "cells": [
    {
      "cell_type": "markdown",
      "metadata": {
        "id": "view-in-github",
        "colab_type": "text"
      },
      "source": [
        "<a href=\"https://colab.research.google.com/github/cogentem/aicourse/blob/main/CS335_PythonLab1_SungYoon.ipynb\" target=\"_parent\"><img src=\"https://colab.research.google.com/assets/colab-badge.svg\" alt=\"Open In Colab\"/></a>"
      ]
    },
    {
      "cell_type": "code",
      "execution_count": 1,
      "metadata": {
        "colab": {
          "base_uri": "https://localhost:8080/"
        },
        "id": "ZJNUcaWQLlPk",
        "outputId": "7d4e6306-f2bd-4cec-b461-b7787c0de01d"
      },
      "outputs": [
        {
          "output_type": "stream",
          "name": "stdout",
          "text": [
            "Name: Sung Yoon\n",
            "Age in 5 years: 45\n",
            "Is enrolled in CS 335 course? True\n"
          ]
        }
      ],
      "source": [
        "name = \"Sung Yoon\"\n",
        "age = 40\n",
        "ai_course = True\n",
        "print(\"Name:\", name)\n",
        "print(\"Age in 5 years:\", age + 5)\n",
        "print(\"Is enrolled in CS 335 course?\", ai_course)"
      ]
    },
    {
      "cell_type": "code",
      "source": [
        "topics = [\"Logic\", \"Search\", \"NLP\", \"ML\", \"Bayesian Inference\", \"Retrieval-Augmented Generation (RAG) framework\", \"Vector Embeddings\"]\n",
        "for i in range(len(topics)):\n",
        "  print(f\"We will study: {i+1}. {topics[i]}\")"
      ],
      "metadata": {
        "colab": {
          "base_uri": "https://localhost:8080/"
        },
        "id": "pI1o93HpMIFW",
        "outputId": "2ba5b444-5784-40a5-90a1-e656106178c2"
      },
      "execution_count": 2,
      "outputs": [
        {
          "output_type": "stream",
          "name": "stdout",
          "text": [
            "We will study: 1. Logic\n",
            "We will study: 2. Search\n",
            "We will study: 3. NLP\n",
            "We will study: 4. ML\n",
            "We will study: 5. Bayesian Inference\n",
            "We will study: 6. Retrieval-Augmented Generation (RAG) framework\n",
            "We will study: 7. Vector Embeddings\n"
          ]
        }
      ]
    },
    {
      "cell_type": "code",
      "source": [
        "student = {\"name\": \"Sung\", \"score\": 98}\n",
        "student2 = {\"name\": \"Mike\", \"score\": 90.00000001}\n",
        "student3 = {\"name\": \"Pam\", \"score\": 89.9999999999}\n",
        "student4 = {\"name\": \"Sam\", \"score\": 789.9999999999}\n",
        "student5 = {\"name\": \"Fran\", \"score\": -99.9999999999}\n",
        "\n",
        "def grade_student(studt):\n",
        "  if studt[\"score\"] >= 95:\n",
        "    grade = \"A+\"\n",
        "  elif studt[\"score\"] >= 90:\n",
        "    grade = \"A\"\n",
        "  elif studt[\"score\"] >= 80:\n",
        "    grade = \"B\"\n",
        "  else:\n",
        "    grade = \"C or below\"\n",
        "  return grade\n",
        "\n",
        "print(f\"{student['name']} received a grade of {grade_student(student)}.\")\n",
        "print(f\"{student2['name']} received a grade of {grade_student(student2)}.\")\n",
        "print(f\"{student3['name']} received a grade of {grade_student(student3)}.\")\n",
        "print(f\"{student4['name']} received a grade of {grade_student(student4)}.\")\n",
        "print(f\"{student5['name']} received a grade of {grade_student(student5)}.\")"
      ],
      "metadata": {
        "colab": {
          "base_uri": "https://localhost:8080/"
        },
        "id": "R4IF5GMbNUF3",
        "outputId": "68a8d5de-2757-41aa-b525-2417242ed04b"
      },
      "execution_count": 9,
      "outputs": [
        {
          "output_type": "stream",
          "name": "stdout",
          "text": [
            "Sung received a grade of A+.\n",
            "Mike received a grade of A.\n",
            "Pam received a grade of B.\n",
            "Sam received a grade of A+.\n",
            "Fran received a grade of C or below.\n"
          ]
        }
      ]
    },
    {
      "cell_type": "code",
      "source": [
        "def greet_student(name):\n",
        "  return f\"Welcome to Omeed, {name}!\"\n",
        "# Test\n",
        "print(greet_student(student[\"name\"]))"
      ],
      "metadata": {
        "id": "yMUC0fAFOzdm",
        "colab": {
          "base_uri": "https://localhost:8080/"
        },
        "outputId": "54ca6261-9fdc-43e5-9fba-53eb6a1225fd"
      },
      "execution_count": 7,
      "outputs": [
        {
          "output_type": "stream",
          "name": "stdout",
          "text": [
            "Welcome to Omeed, Sung!\n"
          ]
        }
      ]
    },
    {
      "cell_type": "code",
      "source": [
        "def square_number(num):\n",
        "  return num**2\n",
        "#Test\n",
        "somenum = 5\n",
        "print(f\"The square of {somenum} is {square_number(somenum)}\")\n",
        "print(f\"The square of {somenum+7} is {square_number(somenum+7)}\")"
      ],
      "metadata": {
        "colab": {
          "base_uri": "https://localhost:8080/"
        },
        "id": "RKKp4S4mwKhK",
        "outputId": "9f2bc5cd-34ae-4e69-f7e3-2d476d5fcf75"
      },
      "execution_count": 15,
      "outputs": [
        {
          "output_type": "stream",
          "name": "stdout",
          "text": [
            "The square of 5 is 25\n",
            "The square of 12 is 144\n"
          ]
        }
      ]
    },
    {
      "cell_type": "code",
      "source": [],
      "metadata": {
        "id": "kz-2mxj1xtdo"
      },
      "execution_count": null,
      "outputs": []
    }
  ]
}