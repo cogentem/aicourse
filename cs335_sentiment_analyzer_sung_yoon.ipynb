{
  "nbformat": 4,
  "nbformat_minor": 0,
  "metadata": {
    "colab": {
      "provenance": [],
      "authorship_tag": "ABX9TyOzQhNH7ECKE+oHVKWqCsmU",
      "include_colab_link": true
    },
    "kernelspec": {
      "name": "python3",
      "display_name": "Python 3"
    },
    "language_info": {
      "name": "python"
    }
  },
  "cells": [
    {
      "cell_type": "markdown",
      "metadata": {
        "id": "view-in-github",
        "colab_type": "text"
      },
      "source": [
        "<a href=\"https://colab.research.google.com/github/cogentem/aicourse/blob/main/cs335_sentiment_analyzer_sung_yoon.ipynb\" target=\"_parent\"><img src=\"https://colab.research.google.com/assets/colab-badge.svg\" alt=\"Open In Colab\"/></a>"
      ]
    },
    {
      "cell_type": "code",
      "execution_count": 16,
      "metadata": {
        "colab": {
          "base_uri": "https://localhost:8080/",
          "height": 88
        },
        "id": "H66i2kOWElYX",
        "outputId": "e54f6bf8-6a36-4c55-d9c9-42be54fe1c2b"
      },
      "outputs": [
        {
          "output_type": "execute_result",
          "data": {
            "text/plain": [
              "'\\nAssignment 2: Simple Sentiment Analyzer\\n\\nInstructions:\\n1. Modify the `positive_words` and `negative_words` sets below:\\n   - **Add at least 15 positive words** and **15 negative words** of your choice.\\n   - Ensure words are lowercased and contain only alphabetic characters.\\n2. Print positive lexicon & negative lexicon\\n3. Compute simple sentiment score (hint: positive - negative count)\\n4. Print the output results\\n5. Add a short reflection as comments at the bottom:\\n   - Discuss **strengths** and **limitations** of this lexicon-based approach (2–3 sentences).\\n\\nDeliverables:\\n- Completed Python script (`sentiment_analyzer.py`).\\n\\n'"
            ],
            "application/vnd.google.colaboratory.intrinsic+json": {
              "type": "string"
            }
          },
          "metadata": {},
          "execution_count": 16
        }
      ],
      "source": [
        "\"\"\"\n",
        "Assignment 2: Simple Sentiment Analyzer\n",
        "\n",
        "Instructions:\n",
        "1. Modify the `positive_words` and `negative_words` sets below:\n",
        "   - **Add at least 15 positive words** and **15 negative words** of your choice.\n",
        "   - Ensure words are lowercased and contain only alphabetic characters.\n",
        "2. Print positive lexicon & negative lexicon\n",
        "3. Compute simple sentiment score (hint: positive - negative count)\n",
        "4. Print the output results\n",
        "5. Add a short reflection as comments at the bottom:\n",
        "   - Discuss **strengths** and **limitations** of this lexicon-based approach (2–3 sentences).\n",
        "\n",
        "Deliverables:\n",
        "- Completed Python script (`sentiment_analyzer.py`).\n",
        "\n",
        "\"\"\"\n",
        "\n",
        "# --- Grading Rubric (Total: 60 pts) ---\n",
        "#\n",
        "# | Criteria                                                          | Points |\n",
        "# |:------------------------------------------------------------------|:-------|\n",
        "# | Lexicon completeness (≥15 positive & ≥15 negative words)           |   20   |\n",
        "# | Display of positive & negative lexicons                            |    5   |\n",
        "# | Sentiment score computation & correct labeling                    |   15   |\n",
        "# | Interactive testing functionality (I/O loop, 'exit' handling)     |   10   |\n",
        "# | Code readability and comments                                     |    5   |\n",
        "# | Reflection quality (insightful strengths & limitations)          |    5   |\n",
        "#\n",
        "# **Total Points:** 60"
      ]
    },
    {
      "cell_type": "code",
      "source": [
        "import re"
      ],
      "metadata": {
        "id": "T7jUW84EHlmI"
      },
      "execution_count": 1,
      "outputs": []
    },
    {
      "cell_type": "code",
      "source": [
        "def clean_text(text):\n",
        "    \"\"\"\n",
        "    Lowercase, remove punctuation, and split into tokens.\n",
        "    \"\"\"\n",
        "    text = text.lower()\n",
        "    text = re.sub(r\"[^a-z\\s]\", '', text)\n",
        "    tokens = text.split()\n",
        "    return tokens"
      ],
      "metadata": {
        "id": "_pew8-_mHp5_"
      },
      "execution_count": 17,
      "outputs": []
    },
    {
      "cell_type": "code",
      "source": [
        "# 1. Add 15 positive and 15 negative to your expand the knowledge base\n",
        "\n",
        "positive_words = {\n",
        "    'happy', 'good', 'great', 'rocks', 'rules', 'hyped', 'joy', 'ecstasy', 'trust', 'admire', 'love', 'awesome', 'sweet', 'badass', 'fun'\n",
        "}\n",
        "negative_words = {\n",
        "    'sad', 'bad', 'horrible', 'sucks', 'stinks', 'meh', 'fear', 'terror', 'disgust', 'loathe', 'hate', 'trash', 'sour', 'lame', 'bored'\n",
        "}"
      ],
      "metadata": {
        "id": "IQguFuEoHwoP"
      },
      "execution_count": 18,
      "outputs": []
    },
    {
      "cell_type": "code",
      "source": [
        "# 2. print positive lexicon & negative lexicon:\n",
        "\n",
        "print(\"List of positive words:\")\n",
        "print(*positive_words, sep =', ')\n",
        "\n",
        "print(\"\\nList of negative words:\")\n",
        "print(*negative_words, sep =', ')"
      ],
      "metadata": {
        "colab": {
          "base_uri": "https://localhost:8080/"
        },
        "id": "gJtEA5g4H1Ad",
        "outputId": "4c708c4c-6d7f-4bb3-d631-149e4ed76bec"
      },
      "execution_count": 19,
      "outputs": [
        {
          "output_type": "stream",
          "name": "stdout",
          "text": [
            "List of positive words:\n",
            "great, sweet, joy, love, ecstasy, admire, happy, hyped, trust, fun, rules, awesome, badass, rocks, good\n",
            "\n",
            "List of negative words:\n",
            "stinks, sour, sucks, hate, lame, sad, trash, disgust, meh, bored, fear, loathe, horrible, bad, terror\n"
          ]
        }
      ]
    },
    {
      "cell_type": "code",
      "source": [
        "# --- Interactive Sentiment Testing ---\n",
        "print(\"\\nEnter sentences to analyze sentiment (type 'exit' to quit):\")\n",
        "while True:\n",
        "    text = input('> ').strip()\n",
        "    if text.lower() in ('exit', 'quit'):\n",
        "        print(\"Goodbye!\")\n",
        "        break\n",
        "\n",
        "    tokens = clean_text(text)\n",
        "    pos_count = sum(1 for t in tokens if t in positive_words)\n",
        "    neg_count = sum(1 for t in tokens if t in negative_words)\n",
        "    total = len(tokens)"
      ],
      "metadata": {
        "colab": {
          "base_uri": "https://localhost:8080/"
        },
        "id": "N6PDKk5quXLL",
        "outputId": "4826c11d-f2f2-4f9c-a025-d2aa3bb3b872"
      },
      "execution_count": 20,
      "outputs": [
        {
          "output_type": "stream",
          "name": "stdout",
          "text": [
            "\n",
            "Enter sentences to analyze sentiment (type 'exit' to quit):\n",
            "> I went to the store the other day and was hyped to buy my favorite drink, but was disappointed to find none.\n",
            "> exit\n",
            "Goodbye!\n"
          ]
        }
      ]
    },
    {
      "cell_type": "code",
      "source": [
        "# 3. Compute simple sentiment score (hint: positive - negative count)\n",
        "\n",
        "# Determine sentiment label\n",
        "if total > 0:\n",
        "  sentiment = 'Positive'\n",
        "elif total < 0:\n",
        "  sentiment = 'Negative'\n",
        "else:\n",
        "  sentiment = 'Neutral'"
      ],
      "metadata": {
        "id": "9fKFu3-aH4Mq"
      },
      "execution_count": 21,
      "outputs": []
    },
    {
      "cell_type": "code",
      "source": [
        "# 4. print the output results\n",
        "print(f\"Tokens: {tokens}\")\n",
        "print(f\"+ matches: {pos_count}, - matches: {neg_count}\")\n",
        "print(f\"Score: {total:.3f} => {sentiment}\\n\")"
      ],
      "metadata": {
        "colab": {
          "base_uri": "https://localhost:8080/"
        },
        "id": "uNYCVRJ3IING",
        "outputId": "6f54a19c-0b9b-484e-a911-5a398ad05532"
      },
      "execution_count": 22,
      "outputs": [
        {
          "output_type": "stream",
          "name": "stdout",
          "text": [
            "Tokens: ['i', 'went', 'to', 'the', 'store', 'the', 'other', 'day', 'and', 'was', 'hyped', 'to', 'buy', 'my', 'favorite', 'drink', 'but', 'was', 'disappointed', 'to', 'find', 'none']\n",
            "+ matches: 1, - matches: 0\n",
            "Score: 22.000 => Positive\n",
            "\n"
          ]
        }
      ]
    },
    {
      "cell_type": "code",
      "source": [
        "# 5. Add a short reflection as comments at the bottom (2–3 sentences)\n",
        "# This rule-based lexicon approach to sentiment analysis is simple and straightforward, it is easy to program and runs quickly.\n",
        "# However, some drawbacks are its very limited dictionary of terms. In the test sentence, \"I went to the store ... hyped to buy ... but was disappointed...\", this is actually a negative sentence overall since the person is ultimately disappointed, but this sentiment analyzer is incapable of making a Pragmatic Analysis since it uses a simple scoring system that does not analyze context and intent. Another consequence of lacking Pragmatic Analysis is when the user uses words that exist in the list/dictionary, but in the negative. For example, \"...not happy...\" will be scored as positive.\n",
        "# All in all, this is an insightful exercise into language processing."
      ],
      "metadata": {
        "id": "H8Ea-w8kIL1R"
      },
      "execution_count": null,
      "outputs": []
    }
  ]
}